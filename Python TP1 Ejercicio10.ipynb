{
 "cells": [
  {
   "cell_type": "code",
   "execution_count": 1,
   "metadata": {},
   "outputs": [
    {
     "name": "stdout",
     "output_type": "stream",
     "text": [
      "s3lepa s3nm4l0una 1dhik 0lers 0r4t0c2nc1tota n1epa 3ll3rr0s1duna 1dhik 1r0wtf3sers n3sota y4mepa s3d0c2lp0una\n"
     ]
    }
   ],
   "source": [
    "### Ejercicio 10\n",
    "\n",
    "# Se debe crear una funcion que tome como para parametro un texto y nos devuelva el texto \n",
    "# pero encriptado, el metodo de encriptacion sera siguiendo estos pasos:\n",
    "\n",
    "#* 1 - Dar vuelta la palabra\n",
    "#* 2 - Reemplazar las vocales por los numeros del 0 al 4 (a=0, e=1, i=2, o=3, u=4), \n",
    "# las vocales aceptuadas o con dieresis tambien se cambian como vocales.\n",
    "#* 3 - agregar al final de cada palabra de forma alternada las terminaciones \n",
    "# que se dan en la lista \"ends_words\"\n",
    "\n",
    "#ends_words = ['epa','una','hik','ers','ota']\n",
    "\n",
    "def encriptar(texto):                          \n",
    "    textominusq=texto.lower()\n",
    "    listapalabras=textominusq.split(' ')                    \n",
    "\n",
    "    #invertir las palabras\n",
    "    cadenainvertida=\"\"\n",
    "    for i in range(0,len(listapalabras)):   \n",
    "        aux=listapalabras[i]\n",
    "        invertida=\"\"\n",
    "        for j in range(len(aux)-1,-1,-1):\n",
    "            invertida=invertida+aux[j]\n",
    "        cadenainvertida=cadenainvertida+invertida+\" \"\n",
    "\n",
    "    #convertir vocales en números\n",
    "    listainvertida=list(cadenainvertida)\n",
    "    for i in range(0,len(listainvertida)):\n",
    "        if listainvertida[i]==\"a\" or listainvertida[i]==\"á\" or listainvertida[i]==\"ä\":\n",
    "            listainvertida[i]=\"0\"\n",
    "        if listainvertida[i]==\"e\" or listainvertida[i]==\"é\" or listainvertida[i]==\"ë\":\n",
    "            listainvertida[i]=\"1\"\n",
    "        if listainvertida[i]==\"i\" or listainvertida[i]==\"í\" or listainvertida[i]==\"ï\":\n",
    "            listainvertida[i]=\"2\"\n",
    "        if listainvertida[i]==\"o\" or listainvertida[i]==\"ó\" or listainvertida[i]==\"ö\":\n",
    "            listainvertida[i]=\"3\"\n",
    "        if listainvertida[i]==\"u\" or listainvertida[i]==\"ú\" or listainvertida[i]==\"ü\":\n",
    "            listainvertida[i]=\"4\"\n",
    "    cadena=\"\".join(listainvertida)      \n",
    "    \n",
    "    #agregar finalizaciones\n",
    "    lista3=cadena.split(' ')\n",
    "    lista3.pop(len(lista3)-1)\n",
    "    for i in range(0,len(lista3)):\n",
    "        if i%5==0:\n",
    "            lista3[i]=lista3[i]+\"epa\"\n",
    "        if i%5==1:\n",
    "            lista3[i]=lista3[i]+\"una\"\n",
    "        if i%5==2:\n",
    "            lista3[i]=lista3[i]+\"hik\"\n",
    "        if i%5==3:\n",
    "            lista3[i]=lista3[i]+\"ers\"\n",
    "        if i%5==4:\n",
    "            lista3[i]=lista3[i]+\"ota\"\n",
    "    cadenafinal=\" \".join(lista3)\n",
    "    print(cadenafinal)\n",
    "\n",
    "encriptar(\"Los alumnos de la tecnicatura en desarrollo de software son muy aplicados\")"
   ]
  }
 ],
 "metadata": {
  "kernelspec": {
   "display_name": "Python 3.10.7 64-bit",
   "language": "python",
   "name": "python3"
  },
  "language_info": {
   "codemirror_mode": {
    "name": "ipython",
    "version": 3
   },
   "file_extension": ".py",
   "mimetype": "text/x-python",
   "name": "python",
   "nbconvert_exporter": "python",
   "pygments_lexer": "ipython3",
   "version": "3.10.7"
  },
  "orig_nbformat": 4,
  "vscode": {
   "interpreter": {
    "hash": "9ba904da6379101e97f0206893e00c499f7314dd6423d7a418e6294b97ae99d4"
   }
  }
 },
 "nbformat": 4,
 "nbformat_minor": 2
}
